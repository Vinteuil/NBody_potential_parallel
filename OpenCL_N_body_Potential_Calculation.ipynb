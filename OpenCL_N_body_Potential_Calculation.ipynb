{
 "cells": [
  {
   "cell_type": "markdown",
   "metadata": {},
   "source": [
    "# Completed for MSc/MSci level HPC Course"
   ]
  },
  {
   "cell_type": "markdown",
   "metadata": {},
   "source": [
    "The goal of this notebook is to write a simple particle simulator. Assume we have $N$ particles with strength $k_j > 0$ at the positions $x_j\\in\\mathbb{R}^2$, $j=0,\\dots, N-1$. Each particle creates a potential at a given point $x$ of strength $V_j(x) = -k_j\\log |x-x_j|$. The total potential at a given position $x$ is therefore\n",
    "$$\n",
    "V(x) = -\\sum_{j=0}^{N-1}k_j\\log|x-x_j|.\n",
    "$$"
   ]
  },
  {
   "cell_type": "markdown",
   "metadata": {},
   "source": [
    "The following code generates $N$ particle positions and a vector of associated strengths."
   ]
  },
  {
   "cell_type": "code",
   "execution_count": 1,
   "metadata": {
    "collapsed": true
   },
   "outputs": [],
   "source": [
    "import numpy as np\n",
    "from numba import jit, prange\n",
    "\n",
    "N = 100\n",
    "\n",
    "rand = np.random.RandomState(0)\n",
    "pos = rand.rand(N, 2)\n",
    "k = rand.rand(N)"
   ]
  },
  {
   "cell_type": "code",
   "execution_count": 2,
   "metadata": {
    "collapsed": true
   },
   "outputs": [],
   "source": [
    "import pyopencl as cl\n",
    "ctx = cl.create_some_context()\n",
    "queue = cl.CommandQueue(ctx)"
   ]
  },
  {
   "cell_type": "markdown",
   "metadata": {},
   "source": [
    "Let us plot the corresponding particle positions."
   ]
  },
  {
   "cell_type": "code",
   "execution_count": 3,
   "metadata": {},
   "outputs": [
    {
     "data": {
      "image/png": "[encoded data removed]",
      "text/plain": [
       "<Figure size 720x720 with 1 Axes>"
      ]
     },
     "metadata": {},
     "output_type": "display_data"
    }
   ],
   "source": [
    "%matplotlib inline\n",
    "from matplotlib import pyplot as plt\n",
    "fig = plt.figure(figsize=(10, 10))\n",
    "ax = fig.add_subplot(111)\n",
    "ax.plot(pos[:, 0], pos[:, 1], 'k.', markersize=4)\n",
    "ax.set_aspect('equal')"
   ]
  },
  {
   "cell_type": "code",
   "execution_count": 4,
   "metadata": {
    "collapsed": true
   },
   "outputs": [],
   "source": [
    "import numpy as np\n",
    "from numba import jit, prange\n",
    "import math \n",
    "\n",
    "N = 100\n",
    "\n",
    "rand = np.random.RandomState(0)\n",
    "pos = rand.rand(N, 2)\n",
    "k = rand.rand(N)\n",
    "\n",
    "import pyopencl as cl\n",
    "ctx = cl.create_some_context()\n",
    "queue = cl.CommandQueue(ctx)\n",
    "\n",
    "def evaluate_field(evaluation_points, source_positions, strength_vector,\n",
    "                   implementation='numba'):\n",
    "    \"\"\"\n",
    "    Evaluate a field at a given set of points.\n",
    "\n",
    "    Parameters\n",
    "    ------------\n",
    "    evaluation_points : np.ndarray\n",
    "        A (M, 2) float64 array of M positions that contain the\n",
    "        two dimensional points at which to evaluate the field.\n",
    "    source_positions : np.ndarray\n",
    "        A (N, 2) float64 array of N source positions that contain\n",
    "        the source locations\n",
    "    strength_vector : np.ndarray\n",
    "        A (N, ) float64 array of the strengths associated with\n",
    "        each source.\n",
    "    implementation : string\n",
    "        Either 'numba' or 'opencl' to use a Numba or OpenCL\n",
    "        implementation.\n",
    "\n",
    "    Returns\n",
    "    -------------\n",
    "    A (M, ) float64 vector of the field values at the corresponding\n",
    "    evaluation points.\n",
    "\n",
    "    \"\"\"\n",
    "    # initialise an array for the evaluation result\n",
    "    field_at_points = np.zeros((len(evaluation_points), ), dtype=np.float64)\n",
    "\n",
    "    if implementation == 'opencl':\n",
    "        # split 2D vectors into two arrays before passing to OpenCL\n",
    "        evaluationPointsOpenCL_0 =\\\n",
    "            np.ascontiguousarray(evaluation_points[:, 0])\n",
    "        evaluationPointsOpenCL_1 =\\\n",
    "            np.ascontiguousarray(evaluation_points[:, 1])\n",
    "        sourcePositionsOpenCL_0 =\\\n",
    "            np.ascontiguousarray(source_positions[:, 0])\n",
    "        sourcePositionsOpenCL_1 =\\\n",
    "            np.ascontiguousarray(source_positions[:, 1])\n",
    "\n",
    "        return evaluate_field_opencl(evaluationPointsOpenCL_0,\n",
    "                                     evaluationPointsOpenCL_1,\n",
    "                                     sourcePositionsOpenCL_0,\n",
    "                                     sourcePositionsOpenCL_1,\n",
    "                                     strength_vector)\n",
    "    if implementation == 'numba':\n",
    "\n",
    "        return evaluate_field_numba(evaluation_points, source_positions,\n",
    "                                    strength_vector, field_at_points)\n",
    "\n",
    "\n",
    "@jit(['float64[:](float64[:,:], float64[:,:], float64[:], float64[:])'],\n",
    "     nopython=True, parallel=True)\n",
    "def evaluate_field_numba(evaluation_points, source_positions,\n",
    "                         strength_vector, field_at_points):\n",
    "    \"\"\"\n",
    "    Numba implementation to evaluate field at given coordinates\n",
    "\n",
    "    Parameters\n",
    "    ------------\n",
    "    evaluation_points : np.ndarray\n",
    "        A (M, 2) float64 array of M positions that contain the\n",
    "        two dimensional points at which to evaluate the field.\n",
    "    source_positions : np.ndarray\n",
    "        A (N, 2) float64 array of N source positions that contain\n",
    "        the source locations\n",
    "    strength_vector : np.ndarray\n",
    "        A (N, ) float64 array of the strengths associated with\n",
    "        each source.\n",
    "    field_at_points : np.ndarray\n",
    "        An (M, ) float64 array that must be passed to the function\n",
    "        as arrays cannot be created by numba in parallel mode\n",
    "\n",
    "    Returns\n",
    "    -------------\n",
    "    A (M, ) float64 vector of the field values at the corresponding\n",
    "    evaluation points.\n",
    "\n",
    "    \"\"\"\n",
    "    # initialise range of loops\n",
    "    M = evaluation_points.shape[0]\n",
    "    N = source_positions.shape[0]\n",
    "\n",
    "    # prange makes outer loop parallelised\n",
    "    for i in prange(M):\n",
    "        potential = 0.0\n",
    "        for j in range(N):\n",
    "            # calculating potenital\n",
    "            difference_0 = evaluation_points[i][0] - source_positions[j][0]\n",
    "            difference_1 = evaluation_points[i][1] - source_positions[j][1]\n",
    "            difference_magnitude = np.sqrt((difference_1)**2 +\n",
    "                                           (difference_0)**2)\n",
    "            log_difference_magnitude = (np.log(difference_magnitude))\n",
    "            # we want negative of the sum, so we minus the accumlator\n",
    "            potential = potential -\\\n",
    "                (log_difference_magnitude)*strength_vector[j]\n",
    "\n",
    "        # assign result to result array\n",
    "        field_at_points[i] = potential\n",
    "\n",
    "    return field_at_points \n",
    "        \n",
    "\n",
    "\n",
    "def evaluate_field_opencl(evaluation_points_0,\n",
    "                          evaluation_points_1,\n",
    "                          source_positions_0,\n",
    "                          source_positions_1,\n",
    "                          strength_vector):\n",
    "    \"\"\"OpenCL implementation to evaluate field at given coordinates\n",
    "    \n",
    "    Parameters\n",
    "    ------------\n",
    "    evaluation_points_0 : np.ndarray\n",
    "        A (M, ) float64 array of M positions in the x dimension\n",
    "        for evaluation.\n",
    "    evaluation_points_1 : np.ndarray\n",
    "        A (M, ) float64 array of M positions in the y dimension\n",
    "        for evaluation.\n",
    "    source_positions_0 : np.ndarray\n",
    "        A (N, ) float64 array of N source positions in the x \n",
    "        dimension\n",
    "    source_positions_1 : np.ndarray\n",
    "        A (N, ) float64 array of N source positions in the y \n",
    "        dimension\n",
    "    strength_vector : np.ndarray\n",
    "        A (N, ) float64 array of the strengths associated with\n",
    "        each source.\n",
    "        \n",
    "    Returns\n",
    "    -------------\n",
    "    A (M, ) float64 vector of the field values at the corresponding\n",
    "    evaluation points.\"\"\"\n",
    "\n",
    "    kernel = \"\"\"\n",
    "\n",
    "    __kernel void evaluate_potential(const int numOfEvaluationPoints,\n",
    "                                     const int numOfSourcePoints,\n",
    "                                     __global double *evaluationPoints0,\n",
    "                                     __global double *evaluationPoints1,\n",
    "                                     __global double *sourcePoints0,\n",
    "                                     __global double *sourcePoints1,\n",
    "                                     __global double *strengthVector,\n",
    "                                     __global double *result)\n",
    "    {\n",
    "    // get thread identifiers \n",
    "    int row = get_group_id(0);\n",
    "    int tid = get_local_id(0);\n",
    "    int localSize = get_local_size(0);\n",
    "    \n",
    "    // calculate number of tiles\n",
    "    int numTiles = numOfSourcePoints / localSize;\n",
    "    \n",
    "    // initialise caches to reduce global memory access \n",
    "    __local double localSourcePoints0[TS];\n",
    "    __local double localSourcePoints1[TS];\n",
    "    __local double localStrength[TS];\n",
    "\n",
    "    // initialise points that will be used for each tile \n",
    "    double evaluationPoint0 = evaluationPoints0[row*localSize+tid];\n",
    "    double evaluationPoint1 = evaluationPoints1[row*localSize+tid];\n",
    "    \n",
    "    double potential = 0.0;\n",
    "    \n",
    "    // make sure doesnt go out of current tile or out of row\n",
    "    if (tid < localSize) {\n",
    "        if ((row*localSize+tid) < numOfEvaluationPoints) { \n",
    "            for (int i=0; i < numTiles; i++) {\n",
    "                // load data into caches based on calculated indices\n",
    "                int i_index = i * localSize + tid;\n",
    "                localSourcePoints0[tid] = sourcePoints0[i_index];\n",
    "                localSourcePoints1[tid] = sourcePoints1[i_index];\n",
    "                localStrength[tid] = strengthVector[i_index];\n",
    "\n",
    "                // wait for all work groups to synchronise \n",
    "                barrier(CLK_LOCAL_MEM_FENCE);\n",
    "    \n",
    "                // do calculations for given tile\n",
    "                for (int j=0; j<localSize; j++) {\n",
    "                    potential -= log(sqrt(\n",
    "                        (\n",
    "                        (((evaluationPoint0 - localSourcePoints0[j]) *\n",
    "                        (evaluationPoint0 - localSourcePoints0[j]))) +\n",
    "                        (((evaluationPoint1 - localSourcePoints1[j]) *\n",
    "                        (evaluationPoint1 - localSourcePoints1[j])))\n",
    "                        )\n",
    "                        )) * localStrength[j];\n",
    "                }\n",
    "\n",
    "            barrier(CLK_LOCAL_MEM_FENCE);\n",
    "            }\n",
    "        }\n",
    "    }\n",
    "    \n",
    "    // write to global memory \n",
    "    result[row*localSize+tid] = potential;\n",
    "\n",
    "    }\n",
    "\n",
    "    \"\"\"\n",
    "    \n",
    "    n_eval_points = len(evaluation_points_0)\n",
    "    n_source_positions = len(source_positions_0)\n",
    "\n",
    "    # trying to estimate optimum work group dimensions\n",
    "    if n_eval_points < n_source_positions:\n",
    "\n",
    "        work_group_ratio =\\\n",
    "            (n_source_positions/n_eval_points).as_integer_ratio()\n",
    "        x_work_group = work_group_ratio[1]\n",
    "        y_work_group = work_group_ratio[0]\n",
    "\n",
    "    else:\n",
    "\n",
    "        work_group_ratio =\\\n",
    "            (n_eval_points/n_source_positions).as_integer_ratio()\n",
    "        x_work_group = work_group_ratio[1]\n",
    "        y_work_group = np.int32(work_group_ratio[0]/2)\n",
    "\n",
    "    # create memory buffers for OpenCL kernels\n",
    "    mf = cl.mem_flags\n",
    "    eval_buffer_0 = cl.Buffer(ctx, mf.COPY_HOST_PTR | mf.READ_ONLY,\n",
    "                              hostbuf=evaluation_points_0)\n",
    "    eval_buffer_1 = cl.Buffer(ctx, mf.COPY_HOST_PTR | mf.READ_ONLY,\n",
    "                              hostbuf=evaluation_points_1)\n",
    "    source_buffer_0 = cl.Buffer(ctx, mf.COPY_HOST_PTR | mf.READ_ONLY,\n",
    "                                hostbuf=source_positions_0)\n",
    "    source_buffer_1 = cl.Buffer(ctx, mf.COPY_HOST_PTR | mf.READ_ONLY,\n",
    "                                hostbuf=source_positions_1)\n",
    "    strength_buffer = cl.Buffer(ctx, mf.COPY_HOST_PTR | mf.READ_ONLY,\n",
    "                                hostbuf=strength_vector)\n",
    "    result_buffer = cl.Buffer(ctx, mf.ALLOC_HOST_PTR,\n",
    "                              size=evaluation_points.shape[0] * 8)\n",
    "    \n",
    "    # build program from kernel \n",
    "    prg = cl.Program(ctx, kernel).build(options=[\n",
    "                                        '-D', 'TS={0}'.format(x_work_group)])\n",
    "    potential_kernel = prg.evaluate_potential\n",
    "\n",
    "    # copy buffers to kernel \n",
    "    potential_kernel(queue, (n_eval_points, n_source_positions),\n",
    "                     (x_work_group, y_work_group),\n",
    "                     np.int32(n_eval_points), np.int32(n_source_positions),\n",
    "                     eval_buffer_0, eval_buffer_1, source_buffer_0,\n",
    "                     source_buffer_1, strength_buffer, result_buffer)\n",
    "\n",
    "    # get result from kernel \n",
    "    result, _ = cl.enqueue_map_buffer(queue, result_buffer, cl.map_flags.READ,\n",
    "                                      0, (n_eval_points, ), np.double)\n",
    "    queue.finish()\n",
    "\n",
    "    return result"
   ]
  },
  {
   "cell_type": "code",
   "execution_count": 5,
   "metadata": {
    "collapsed": true
   },
   "outputs": [],
   "source": [
    "Nx = 100\n",
    "Ny = 100\n",
    "xpoints, ypoints = np.mgrid[0 : 1: 1j * Nx, 0 : 1: 1j * Ny]\n",
    "evaluation_points = np.vstack([xpoints.ravel(), ypoints.ravel()]).T"
   ]
  },
  {
   "cell_type": "markdown",
   "metadata": {},
   "source": [
    "Finally, we want to plot the results. We plot the logs since the result will be large close to the poles."
   ]
  },
  {
   "cell_type": "code",
   "execution_count": 6,
   "metadata": {
    "collapsed": true
   },
   "outputs": [],
   "source": [
    "result_numba = evaluate_field(evaluation_points, pos, k, implementation='numba')\n",
    "\n",
    "result_opencl = evaluate_field(evaluation_points, pos, k, implementation='opencl')"
   ]
  },
  {
   "cell_type": "code",
   "execution_count": 7,
   "metadata": {},
   "outputs": [],
   "source": [
    "result_numba = np.log10(np.abs(result_numba.reshape(Nx, Ny)))\n",
    "result_opencl = np.log10(np.abs(result_opencl.reshape(Nx, Ny)))"
   ]
  },
  {
   "cell_type": "code",
   "execution_count": 8,
   "metadata": {},
   "outputs": [
    {
     "data": {
      "text/plain": [
       "Text(0.5,1,'OpenCL')"
      ]
     },
     "execution_count": 8,
     "metadata": {},
     "output_type": "execute_result"
    },
    {
     "data": {
      "image/png": "[encoded data removed]",
      "text/plain": [
       "<Figure size 1440x1440 with 2 Axes>"
      ]
     },
     "metadata": {},
     "output_type": "display_data"
    }
   ],
   "source": [
    "figure = plt.figure(figsize=(20, 20))\n",
    "ax1 = figure.add_subplot(121)\n",
    "ax2 = figure.add_subplot(122)\n",
    "\n",
    "ax1.imshow(result_numba.T, extent=[0, 1, 0, 1], origin='lower')\n",
    "ax1.set_aspect('equal')\n",
    "ax1.set_title('Numba')\n",
    "\n",
    "ax2.imshow(result_opencl.T, extent=[0, 1, 0, 1], origin='lower')\n",
    "ax2.set_aspect('equal')\n",
    "ax2.set_title('OpenCL')\n"
   ]
  }
 ],
 "metadata": {
  "kernelspec": {
   "display_name": "Python 3",
   "language": "python",
   "name": "python3"
  },
  "language_info": {
   "codemirror_mode": {
    "name": "ipython",
    "version": 3
   },
   "file_extension": ".py",
   "mimetype": "text/x-python",
   "name": "python",
   "nbconvert_exporter": "python",
   "pygments_lexer": "ipython3",
   "version": "3.6.8"
  }
 },
 "nbformat": 4,
 "nbformat_minor": 2
}
