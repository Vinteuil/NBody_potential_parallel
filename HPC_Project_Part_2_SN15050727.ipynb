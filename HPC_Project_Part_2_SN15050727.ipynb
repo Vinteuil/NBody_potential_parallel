{
 "cells": [
  {
   "cell_type": "markdown",
   "metadata": {},
   "source": [
    "# HPC Project Part 2, SN: 15050727\n",
    "The following notebook exhibits my naive and performance enhanced application of the finite difference method to a parabolic Poisson equation used to for the experiments presented in the report. \n",
    "\n",
    "I will begin this notebook by importing the necessary libraries and defining some functions that are useful implementing initial $g(x, y)$ values. "
   ]
  },
  {
   "cell_type": "code",
   "execution_count": 1,
   "metadata": {
    "collapsed": true
   },
   "outputs": [],
   "source": [
    "import matplotlib.pyplot as plt \n",
    "import numpy as np \n",
    "from numpy.random import RandomState\n",
    "import pyopencl as cl\n",
    "import time\n",
    "%matplotlib inline"
   ]
  },
  {
   "cell_type": "code",
   "execution_count": 2,
   "metadata": {
    "collapsed": true
   },
   "outputs": [],
   "source": [
    "def initial_conditions(in_grid):\n",
    "    \"\"\"\n",
    "    Fills an array with ones near the centre.\n",
    "\n",
    "    Parameters\n",
    "    ----------\n",
    "    in_grid : np.ndarray\n",
    "        A (N, N) float64 array to be filled with ones,\n",
    "        N must be divisible by 4.  \n",
    "\n",
    "    Returns\n",
    "    -------\n",
    "    A (N, N) float64 array with ones near the centre\n",
    "    \"\"\"\n",
    "    # nested for loop to find centre points\n",
    "    for i in range(len(in_grid[0])):\n",
    "        for j in range(len(in_grid[0])):\n",
    "            # checking if point is near centre\n",
    "            if i > len(in_grid[0])/4:\n",
    "                if i < 3*len(in_grid[0])/4:\n",
    "                    if j > len(in_grid[0])/4:\n",
    "                        if j < 3*len(in_grid[0])/4:\n",
    "                            in_grid[i][j] = 1\n",
    "\n",
    "    return in_grid\n",
    "\n",
    "def initial_conditions_assymetric(in_grid, N):\n",
    "    \"\"\"\n",
    "    Fills an array with ones randomly for 20% of the\n",
    "    grid. \n",
    "\n",
    "    Parameters\n",
    "    ----------\n",
    "    in_grid : np.ndarray\n",
    "        A (N, N) float64 array to be filled with ones,\n",
    "        N must be divisible by 4.       \n",
    "    in_grid : integer\n",
    "        An integer describing the length of the sides\n",
    "        of the in_grid\n",
    "    Returns\n",
    "    -------\n",
    "    A (N, N) float64 array ones randomly added throughout\n",
    "    \"\"\"\n",
    "    in_grid = in_grid.flatten()\n",
    "    # produce same grid every time with seed\n",
    "    seeder = RandomState(1234567891)\n",
    "    # calculate random indices\n",
    "    indices = seeder.choice(np.arange(in_grid.size), replace=False,\n",
    "                            size=int(in_grid.size * 0.2))\n",
    "    # fill at corresponidng indices and reshape for output \n",
    "    in_grid[indices] = 1\n",
    "    in_grid = np.reshape(in_grid, (N, N))\n",
    "    return in_grid"
   ]
  },
  {
   "cell_type": "markdown",
   "metadata": {},
   "source": [
    "## Naive Implementation ##"
   ]
  },
  {
   "cell_type": "markdown",
   "metadata": {},
   "source": [
    "Next I will define the OpenCL kernel string for the naive implementation of the finite difference method and build the corresponding program."
   ]
  },
  {
   "cell_type": "code",
   "execution_count": 3,
   "metadata": {
    "collapsed": true
   },
   "outputs": [],
   "source": [
    "kernel_string = \"\"\"\n",
    "__kernel void discretiseOpenCL(const int timeStep,\n",
    "                               const int kernel_dim, \n",
    "                               __global double* result, \n",
    "                               __global double* sigma)\n",
    "{\n",
    "\n",
    "    // Thread indetifiers\n",
    "    int i = get_global_id(0);\n",
    "    int j = get_global_id(1);  \n",
    "\n",
    "    // initialise \n",
    "    int height = kernel_dim; \n",
    "    int width = kernel_dim;\n",
    "    int sigma_height = height + 2; \n",
    "    double h = (double)1 / (height + 1);\n",
    "    \n",
    "    // hard coded delta_T for the sigma used \n",
    "    double delta_T = (h * h) / (4 * 7.38);\n",
    "    \n",
    "    // read sigma data from memory buffer\n",
    "    double sigma_i_j = sigma[(i+1) * sigma_height + j + 1];\n",
    "    double sigma_i_plus_one_j = sigma[(i+1+1) * sigma_height \n",
    "                                        + j + 1];\n",
    "    double sigma_i_minus_one_j = sigma[(i+1-1) * sigma_height \n",
    "                                        + j + 1];\n",
    "    double sigma_i_j_plus_one = sigma[(i+1) * sigma_height \n",
    "                                        + j + 1 + 1];\n",
    "    double sigma_i_j_minus_one = sigma[(i+1) * sigma_height \n",
    "                                        + j + 1 - 1];\n",
    "\n",
    "    // calculate approximation of points not on the grid\n",
    "    double sigma_x_forward = 0.5 * (sigma_i_j +\n",
    "                                    sigma_i_plus_one_j);\n",
    "    double sigma_y_forward = 0.5 * (sigma_i_j + \n",
    "                                    sigma_i_j_plus_one);\n",
    "    double sigma_x_backward = 0.5 * (sigma_i_j + \n",
    "                                     sigma_i_minus_one_j);\n",
    "    double sigma_y_backward = 0.5 * (sigma_i_j + \n",
    "                                     sigma_i_j_minus_one);\n",
    "    \n",
    "    // read u data \n",
    "    double u_i_j = result[((timeStep-1) * height * width) \n",
    "                          + i * height + j];\n",
    "    double u_i_plus_one_j = result[((timeStep-1) * height * width) \n",
    "                                   + (i + 1) * height + j];\n",
    "    double u_i_minus_one_j = result[((timeStep-1) * height * width) \n",
    "                                    + (i - 1) * height + j];\n",
    "    double u_i_j_plus_one = result[((timeStep-1) * height * width) \n",
    "                                   + i * height + j + 1];\n",
    "    double u_i_j_minus_one = result[((timeStep-1) * height * width) \n",
    "                                   + i * height + j - 1];\n",
    "\n",
    "    // implicitly deal with boundaries\n",
    "    if (i == 0) { \n",
    "        u_i_minus_one_j = 0.0;\n",
    "    }\n",
    "    if (i == kernel_dim - 1) { \n",
    "        u_i_plus_one_j = 0.0;\n",
    "    }\n",
    "    if (j == 0) { \n",
    "        u_i_j_minus_one = 0.0;\n",
    "    }\n",
    "    if (j == kernel_dim - 1) { \n",
    "        u_i_j_plus_one = 0.0;\n",
    "    }\n",
    "\n",
    "    // do calculations\n",
    "    double first = sigma_x_forward * (u_i_plus_one_j - u_i_j) / h; \n",
    "    double second = sigma_x_backward * (u_i_j - u_i_minus_one_j) / h;\n",
    "    double third = sigma_y_forward * (u_i_j_plus_one - u_i_j) / h;\n",
    "    double fourth = sigma_y_backward * (u_i_j - u_i_j_minus_one) / h;\n",
    "\n",
    "    double part_one = (first - second) / h;\n",
    "    double part_two = (third - fourth) / h;\n",
    "    \n",
    "    double res = part_one + part_two; \n",
    "    \n",
    "    // write to result buffer\n",
    "    result[(timeStep * height * width) + i*height + j] = u_i_j + delta_T * res;\n",
    "    \n",
    "}\n",
    "\"\"\""
   ]
  },
  {
   "cell_type": "markdown",
   "metadata": {},
   "source": [
    "Now I will define a function that implements the above kernel string for a given number of time steps."
   ]
  },
  {
   "cell_type": "code",
   "execution_count": 4,
   "metadata": {
    "collapsed": true
   },
   "outputs": [],
   "source": [
    "def discretise_OpenCL(N, time_steps, asymmetric):\n",
    "    \"\"\"\n",
    "    Solves parabolic possion equation \n",
    "\n",
    "    Parameters\n",
    "    ----------\n",
    "    N : integer\n",
    "        An integer describing the length of one \n",
    "        side of the grid\n",
    "    \n",
    "    time_steps : integer\n",
    "        An number of forward time steps to do\n",
    "        \n",
    "    asymmetric: bool \n",
    "        A boolean value to determine g(x, y)\n",
    "\n",
    "    Returns\n",
    "    -------\n",
    "    A (N, N, time_steps) float64 array describing time evolution\n",
    "    \"\"\"\n",
    "    # make a sigma vector, using the same random seed \n",
    "    # so that the random values are the same at each iteration\n",
    "    seeder = RandomState(1234567890)\n",
    "    sigma = np.exp(seeder.normal(1, 0.2, (N+2)*(N+2), ))\n",
    "    \n",
    "    # Add g(x, y) of choice \n",
    "    in_grid = np.zeros((time_steps + 1, N, N), dtype='float64')\n",
    "    in_grid_init = in_grid[0]\n",
    "    if asymmetric:\n",
    "        in_grid_init = initial_conditions_assymetric(in_grid_init, N)\n",
    "    else: \n",
    "        in_grid_init = initial_conditions(in_grid_init)\n",
    "        \n",
    "    in_grid[0] = in_grid_init\n",
    "\n",
    "    # build an queue \n",
    "    ctx = cl.create_some_context()\n",
    "    queue = cl.CommandQueue(ctx)\n",
    "    mf = cl.mem_flags\n",
    "    prg = cl.Program(ctx, kernel_string).build()\n",
    "    kernel = prg.discretiseOpenCL\n",
    "    \n",
    "    # Setup buffers and kernel\n",
    "    result_buffer = cl.Buffer(ctx, mf.COPY_HOST_PTR, hostbuf=in_grid)\n",
    "               \n",
    "    sigma_buffer = cl.Buffer(ctx, \n",
    "                             mf.READ_ONLY | mf.COPY_HOST_PTR, hostbuf=sigma)\n",
    "    \n",
    "    # Compute time steps in series \n",
    "    for i in range(1, time_steps+1):\n",
    "        event = kernel(queue,\n",
    "                       (N, N),\n",
    "                       (1, 1),\n",
    "                       np.int32(i),\n",
    "                       np.int32(N),\n",
    "                       result_buffer, \n",
    "                       sigma_buffer)\n",
    "        \n",
    "    cl.enqueue_copy(queue, in_grid, result_buffer) \n",
    "    \n",
    "\n",
    "    return in_grid"
   ]
  },
  {
   "cell_type": "markdown",
   "metadata": {},
   "source": [
    "Find the benchmarked output for a 32 by 32 grid for 10 forward time steps below. Along with corresponding plots at different t values. "
   ]
  },
  {
   "cell_type": "code",
   "execution_count": 5,
   "metadata": {},
   "outputs": [
    {
     "name": "stdout",
     "output_type": "stream",
     "text": [
      "Seconds elapsed for 10 timesteps: 0.024132728576660156\n"
     ]
    }
   ],
   "source": [
    "time_steps = 10\n",
    "N = 32\n",
    "# benchmarking used for report\n",
    "start = time.time()\n",
    "output = discretise_OpenCL(N, time_steps, False)\n",
    "end = time.time()\n",
    "print(\"Seconds elapsed for \"+str(time_steps) \n",
    "      + \" timesteps: \" +str(end - start))"
   ]
  },
  {
   "cell_type": "code",
   "execution_count": 6,
   "metadata": {},
   "outputs": [
    {
     "data": {
      "text/plain": [
       "<matplotlib.image.AxesImage at 0x7fbfb5023be0>"
      ]
     },
     "execution_count": 6,
     "metadata": {},
     "output_type": "execute_result"
    },
    {
     "data": {
      "image/png": "[encoded data removed]",
      "text/plain": [
       "<Figure size 432x288 with 1 Axes>"
      ]
     },
     "metadata": {},
     "output_type": "display_data"
    }
   ],
   "source": [
    "plt.imshow(output[0])"
   ]
  },
  {
   "cell_type": "code",
   "execution_count": 7,
   "metadata": {},
   "outputs": [
    {
     "data": {
      "text/plain": [
       "<matplotlib.image.AxesImage at 0x7fbfb4fc5128>"
      ]
     },
     "execution_count": 7,
     "metadata": {},
     "output_type": "execute_result"
    },
    {
     "data": {
      "image/png": "[encoded data removed]",
      "text/plain": [
       "<Figure size 432x288 with 1 Axes>"
      ]
     },
     "metadata": {},
     "output_type": "display_data"
    }
   ],
   "source": [
    "plt.imshow(output[5])"
   ]
  },
  {
   "cell_type": "code",
   "execution_count": 8,
   "metadata": {},
   "outputs": [
    {
     "data": {
      "text/plain": [
       "<matplotlib.image.AxesImage at 0x7fbfb4f2b320>"
      ]
     },
     "execution_count": 8,
     "metadata": {},
     "output_type": "execute_result"
    },
    {
     "data": {
      "image/png": "[encoded data removed]",
      "text/plain": [
       "<Figure size 432x288 with 1 Axes>"
      ]
     },
     "metadata": {},
     "output_type": "display_data"
    }
   ],
   "source": [
    "plt.imshow(output[10])"
   ]
  },
  {
   "cell_type": "markdown",
   "metadata": {},
   "source": [
    "## Optimised Implementation ##"
   ]
  },
  {
   "cell_type": "markdown",
   "metadata": {},
   "source": [
    "Next, I will present the kernel string, along with the function to invoke it I developed to try to optimise performance."
   ]
  },
  {
   "cell_type": "code",
   "execution_count": 9,
   "metadata": {
    "collapsed": true
   },
   "outputs": [],
   "source": [
    "kernel_string_opt = \"\"\"\n",
    "__kernel void discretiseOpenCLOpt(const int timeStep,\n",
    "                               const int kernel_dim, \n",
    "                               __global double* result, \n",
    "                               __global double* sigma)\n",
    "{\n",
    "\n",
    "    // Thread indetifiers\n",
    "    int i = get_global_id(0);\n",
    "    int j = get_global_id(1) * 8;  \n",
    "\n",
    "    // initialise \n",
    "    int height = kernel_dim; \n",
    "    int width = kernel_dim;\n",
    "    int sigma_height = height + 2; \n",
    "    double h_single = (double)1 / (height + 1);\n",
    "    double8 h = (double8)(h_single, \n",
    "                          h_single,\n",
    "                          h_single,\n",
    "                          h_single, \n",
    "                          h_single, \n",
    "                          h_single,\n",
    "                          h_single,\n",
    "                          h_single);\n",
    "                          \n",
    "    // hard coded delta_T for the sigma used \n",
    "    double delta_T = (h[0] * h[0]) / (4 * 7.38); \n",
    "    \n",
    "    // read sigma data from memory buffer 8 values at a time\n",
    "    double8 sigma_i_j = (double8)(sigma[(i+1) * sigma_height \n",
    "                                  + j + 1], \n",
    "                                  sigma[(i+1) * sigma_height \n",
    "                                  + j + 1 + 1],\n",
    "                                  sigma[(i+1) * sigma_height \n",
    "                                  + j + 1 + 2],\n",
    "                                  sigma[(i+1) * sigma_height \n",
    "                                  + j + 1 + 3], \n",
    "                                  sigma[(i+1) * sigma_height \n",
    "                                  + j + 1 + 4], \n",
    "                                  sigma[(i+1) * sigma_height \n",
    "                                  + j + 1 + 5],\n",
    "                                  sigma[(i+1) * sigma_height \n",
    "                                  + j + 1 + 6],\n",
    "                                  sigma[(i+1) * sigma_height \n",
    "                                  + j + 1 + 7]);\n",
    "                                  \n",
    "    double8 sigma_i_plus_one_j = (double8)(sigma[(i+1+1) * sigma_height \n",
    "                                                  + j + 1],\n",
    "                                           sigma[(i+1+1) * sigma_height \n",
    "                                                  + j + 1 + 1],\n",
    "                                           sigma[(i+1+1) * sigma_height \n",
    "                                                  + j + 1 + 2],\n",
    "                                           sigma[(i+1+1) * sigma_height \n",
    "                                                  + j + 1 + 3], \n",
    "                                           sigma[(i+1+1) * sigma_height \n",
    "                                                  + j + 1 + 4],\n",
    "                                           sigma[(i+1+1) * sigma_height \n",
    "                                                  + j + 1 + 5],\n",
    "                                           sigma[(i+1+1) * sigma_height \n",
    "                                                  + j + 1 + 6],\n",
    "                                           sigma[(i+1+1) * sigma_height \n",
    "                                                  + j + 1 + 7]);\n",
    "    \n",
    "    double8 sigma_i_minus_one_j = (double8)(sigma[(i+1-1) * sigma_height \n",
    "                                            + j + 1], \n",
    "                                            sigma[(i+1-1) * sigma_height \n",
    "                                            + j + 1 + 1], \n",
    "                                            sigma[(i+1-1) * sigma_height \n",
    "                                            + j + 1 + 2], \n",
    "                                            sigma[(i+1-1) * sigma_height \n",
    "                                            + j + 1 + 3], \n",
    "                                            sigma[(i+1-1) * sigma_height \n",
    "                                            + j + 1 + 4], \n",
    "                                            sigma[(i+1-1) * sigma_height \n",
    "                                            + j + 1 + 5], \n",
    "                                            sigma[(i+1-1) * sigma_height \n",
    "                                            + j + 1 + 6], \n",
    "                                            sigma[(i+1-1) * sigma_height \n",
    "                                            + j + 1 + 7]);\n",
    "                                            \n",
    "    // can access majority of values here from private memory\n",
    "    double8 sigma_i_j_plus_one = (double8)(sigma_i_j[1], \n",
    "                                           sigma_i_j[2], \n",
    "                                           sigma_i_j[3], \n",
    "                                           sigma_i_j[4], \n",
    "                                           sigma_i_j[5], \n",
    "                                           sigma_i_j[6], \n",
    "                                           sigma_i_j[7], \n",
    "                                           sigma[(i+1) * sigma_height \n",
    "                                           + j + 1 + 1 + 7]);\n",
    "   \n",
    "    double8 sigma_i_j_minus_one = (double8)(sigma[(i+1) * sigma_height \n",
    "                                            + j + 1 - 1],\n",
    "                                            sigma_i_j[0], \n",
    "                                            sigma_i_j[1], \n",
    "                                            sigma_i_j[2], \n",
    "                                            sigma_i_j[3], \n",
    "                                            sigma_i_j[4], \n",
    "                                            sigma_i_j[5], \n",
    "                                            sigma_i_j[6]);\n",
    "\n",
    "    // calculate approximation of points not on the grid\n",
    "    double8 sigma_x_forward = 0.5 * (sigma_i_j + sigma_i_plus_one_j);\n",
    "    double8 sigma_y_forward = 0.5 * (sigma_i_j + sigma_i_j_plus_one);\n",
    "    double8 sigma_x_backward = 0.5 * (sigma_i_j + sigma_i_minus_one_j);\n",
    "    double8 sigma_y_backward = 0.5 * (sigma_i_j + sigma_i_j_minus_one);\n",
    "    \n",
    "    // read u data \n",
    "    double8 u_i_j = (double8)(result[((timeStep-1) * height * width) \n",
    "                              + i * height + j], \n",
    "                              result[((timeStep-1) * height * width) \n",
    "                              + i * height + j + 1], \n",
    "                              result[((timeStep-1) * height * width) \n",
    "                              + i * height + j + 2], \n",
    "                              result[((timeStep-1) * height * width) \n",
    "                              + i * height + j + 3],\n",
    "                              result[((timeStep-1) * height * width) \n",
    "                              + i * height + j + 4], \n",
    "                              result[((timeStep-1) * height * width) \n",
    "                              + i * height + j + 5], \n",
    "                              result[((timeStep-1) * height * width) \n",
    "                              + i * height + j + 6], \n",
    "                              result[((timeStep-1) * height * width) \n",
    "                              + i * height + j + 7]);\n",
    "                              \n",
    "    \n",
    "    double8 u_i_plus_one_j = (double8)(result[((timeStep-1) * height * width) \n",
    "                                       + (i + 1) * height + j], \n",
    "                                       result[((timeStep-1) * height * width) \n",
    "                                       + (i + 1) * height + j + 1], \n",
    "                                       result[((timeStep-1) * height * width) \n",
    "                                       + (i + 1) * height + j + 2], \n",
    "                                       result[((timeStep-1) * height * width) \n",
    "                                       + (i + 1) * height + j + 3], \n",
    "                                       result[((timeStep-1) * height * width) \n",
    "                                       + (i + 1) * height + j + 4], \n",
    "                                       result[((timeStep-1) * height * width) \n",
    "                                       + (i + 1) * height + j + 5], \n",
    "                                       result[((timeStep-1) * height * width) \n",
    "                                       + (i + 1) * height + j + 6], \n",
    "                                       result[((timeStep-1) * height * width) \n",
    "                                       + (i + 1) * height + j + 7]);\n",
    "    \n",
    "    double8 u_i_minus_one_j = (double8)(result[((timeStep-1) * height * width) \n",
    "                                        + (i - 1) * height + j], \n",
    "                                        result[((timeStep-1) * height * width) \n",
    "                                        + (i - 1) * height + j + 1],\n",
    "                                        result[((timeStep-1) * height * width) \n",
    "                                        + (i - 1) * height + j + 2], \n",
    "                                        result[((timeStep-1) * height * width) \n",
    "                                        + (i - 1) * height + j + 3], \n",
    "                                        result[((timeStep-1) * height * width) \n",
    "                                        + (i - 1) * height + j + 4], \n",
    "                                        result[((timeStep-1) * height * width) \n",
    "                                        + (i - 1) * height + j + 5],\n",
    "                                        result[((timeStep-1) * height * width) \n",
    "                                        + (i - 1) * height + j + 6], \n",
    "                                        result[((timeStep-1) * height * width) \n",
    "                                        + (i - 1) * height + j + 7]);\n",
    "    \n",
    "    double8 u_i_j_plus_one = (double8)(u_i_j[1], \n",
    "                                       u_i_j[2],\n",
    "                                       u_i_j[3],\n",
    "                                       u_i_j[4],\n",
    "                                       u_i_j[5],\n",
    "                                       u_i_j[6],\n",
    "                                       u_i_j[7],\n",
    "                                       result[((timeStep-1) * height * width) \n",
    "                                       + i * height + j + 1 + 7]);\n",
    "    \n",
    "    double8 u_i_j_minus_one = (double8)(result[((timeStep-1) * height * width) \n",
    "                                        + i * height + j - 1], \n",
    "                                        u_i_j[0], \n",
    "                                        u_i_j[1],\n",
    "                                        u_i_j[2],\n",
    "                                        u_i_j[3],\n",
    "                                        u_i_j[4],\n",
    "                                        u_i_j[5],\n",
    "                                        u_i_j[6]);\n",
    "\n",
    "    \n",
    "    \n",
    "    // implicitly deal with boundaries\n",
    "    if (i == 0) { \n",
    "        u_i_minus_one_j = 0.0;\n",
    "    }\n",
    "    if (i == kernel_dim - 1) { \n",
    "        u_i_plus_one_j = 0.0;\n",
    "    }\n",
    "    if (j == 0) { \n",
    "        u_i_j_minus_one[0] = 0.0;\n",
    "    }\n",
    "    // width - 8 becase vectors are 8 values long \n",
    "    if (j == width - 8){\n",
    "        u_i_j_plus_one[7] = 0.0;\n",
    "    }\n",
    "    \n",
    "    // do calculations\n",
    "    double8 first = sigma_x_forward * (u_i_plus_one_j - u_i_j) / h; \n",
    "    double8 second = sigma_x_backward * (u_i_j - u_i_minus_one_j) / h;\n",
    "    double8 third = sigma_y_forward * (u_i_j_plus_one - u_i_j) / h;\n",
    "    double8 fourth = sigma_y_backward * (u_i_j - u_i_j_minus_one) / h;\n",
    "    double8 partOne = (first - second) / h;\n",
    "    double8 partTwo = (third - fourth) / h;\n",
    "    double8 res = partOne + partTwo; \n",
    "    \n",
    "    // write to result buffer\n",
    "    result[(timeStep * height * width) + i*height + j] = u_i_j[0] \n",
    "                                                        + delta_T * res[0];\n",
    "    result[(timeStep * height * width) + i*height + j + 1] = u_i_j[1] \n",
    "                                                        + delta_T * res[1];\n",
    "    result[(timeStep * height * width) + i*height + j + 2] = u_i_j[2] \n",
    "                                                        + delta_T * res[2];\n",
    "    result[(timeStep * height * width) + i*height + j + 3] = u_i_j[3] \n",
    "                                                        + delta_T * res[3];\n",
    "    result[(timeStep * height * width) + i*height + j + 4] = u_i_j[4] \n",
    "                                                        + delta_T * res[4];\n",
    "    result[(timeStep * height * width) + i*height + j + 5] = u_i_j[5] \n",
    "                                                        + delta_T * res[5];\n",
    "    result[(timeStep * height * width) + i*height + j + 6] = u_i_j[6] \n",
    "                                                        + delta_T * res[6];\n",
    "    result[(timeStep * height * width) + i*height + j + 7] = u_i_j[7] \n",
    "                                                        + delta_T * res[7];\n",
    "    \n",
    "}\n",
    "\"\"\""
   ]
  },
  {
   "cell_type": "code",
   "execution_count": 10,
   "metadata": {
    "collapsed": true
   },
   "outputs": [],
   "source": [
    "def discretise_OpenCL_Optimised(N, time_steps, asymmetric):\n",
    "    \"\"\"\n",
    "    Solves parabolic possion equation \n",
    "\n",
    "    Parameters\n",
    "    ----------\n",
    "    N : integer\n",
    "        An integer describing the length of one \n",
    "        side of the grid\n",
    "    \n",
    "    time_steps : integer\n",
    "        An number of forward time steps to do\n",
    "        \n",
    "    asymmetric: bool \n",
    "        A boolean value to determine g(x, y)\n",
    "\n",
    "    Returns\n",
    "    -------\n",
    "    A (N, N, time_steps) float64 array describing time evolution\n",
    "    \"\"\"\n",
    "    # make a sigma vector, using the same random seed \n",
    "    # so that the random values are the same at each iteration\n",
    "    seeder = RandomState(1234567890)\n",
    "    sigma = np.exp(seeder.normal(1, 0.2, (N+2)*(N+2), ))\n",
    "    \n",
    "    # Add g(x, y) of choice \n",
    "    in_grid = np.zeros((time_steps + 1, N, N), dtype='float64')\n",
    "    in_grid_init = in_grid[0]\n",
    "    if asymmetric:\n",
    "        in_grid_init = initial_conditions_assymetric(in_grid_init, N)\n",
    "    else: \n",
    "        in_grid_init = initial_conditions(in_grid_init)\n",
    "        \n",
    "    in_grid[0] = in_grid_init\n",
    "\n",
    "    # build and queue \n",
    "    ctx = cl.create_some_context()\n",
    "    queue = cl.CommandQueue(ctx)\n",
    "    mf = cl.mem_flags\n",
    "    prg = cl.Program(ctx, kernel_string_opt).build()\n",
    "    kernel = prg.discretiseOpenCLOpt\n",
    "    \n",
    "    # Setup buffers and kernel\n",
    "    result_buffer = cl.Buffer(\n",
    "        ctx, mf.COPY_HOST_PTR, hostbuf=in_grid)\n",
    "               \n",
    "    sigma_buffer = cl.Buffer(ctx, \n",
    "                             mf.READ_ONLY | mf.COPY_HOST_PTR, hostbuf=sigma)\n",
    "    \n",
    "    for i in range(1, time_steps+1):\n",
    "        kernel(queue,\n",
    "               (N, N//8),\n",
    "               (1, 1),\n",
    "               np.int32(i),\n",
    "               np.int32(N),\n",
    "               result_buffer,\n",
    "               sigma_buffer)\n",
    "        \n",
    "    cl.enqueue_copy(queue, in_grid, result_buffer)\n",
    "\n",
    "    return in_grid"
   ]
  },
  {
   "cell_type": "markdown",
   "metadata": {},
   "source": [
    "This is how I performed benchmarking for the report. Later I will present functions to benchmark in the manner suggested in the project description. "
   ]
  },
  {
   "cell_type": "code",
   "execution_count": 11,
   "metadata": {},
   "outputs": [
    {
     "name": "stdout",
     "output_type": "stream",
     "text": [
      "Seconds elapsed for 10 timesteps: 0.003481626510620117\n"
     ]
    }
   ],
   "source": [
    "time_steps = 10\n",
    "N = 32\n",
    "# benchmarking used for report\n",
    "start = time.time()\n",
    "output_opt = discretise_OpenCL_Optimised(N, \n",
    "                                         time_steps, \n",
    "                                         False)\n",
    "end = time.time()\n",
    "print(\"Seconds elapsed for \"+str(time_steps) \n",
    "      + \" timesteps: \" +str(end - start))"
   ]
  },
  {
   "cell_type": "code",
   "execution_count": 12,
   "metadata": {},
   "outputs": [
    {
     "data": {
      "text/plain": [
       "<matplotlib.colorbar.Colorbar at 0x7fbfb4cbffd0>"
      ]
     },
     "execution_count": 12,
     "metadata": {},
     "output_type": "execute_result"
    },
    {
     "data": {
      "image/png": "[encoded data removed]",
      "text/plain": [
       "<Figure size 432x288 with 2 Axes>"
      ]
     },
     "metadata": {},
     "output_type": "display_data"
    }
   ],
   "source": [
    "plt.imshow(output_opt[0])\n",
    "plt.colorbar()"
   ]
  },
  {
   "cell_type": "code",
   "execution_count": 13,
   "metadata": {},
   "outputs": [
    {
     "data": {
      "text/plain": [
       "<matplotlib.colorbar.Colorbar at 0x7fbfb4bec080>"
      ]
     },
     "execution_count": 13,
     "metadata": {},
     "output_type": "execute_result"
    },
    {
     "data": {
      "image/png": "[encoded data removed]",
      "text/plain": [
       "<Figure size 432x288 with 2 Axes>"
      ]
     },
     "metadata": {},
     "output_type": "display_data"
    }
   ],
   "source": [
    "plt.imshow(output_opt[5])\n",
    "plt.colorbar()"
   ]
  },
  {
   "cell_type": "code",
   "execution_count": 14,
   "metadata": {},
   "outputs": [
    {
     "data": {
      "text/plain": [
       "<matplotlib.image.AxesImage at 0x7fbfb4bd5668>"
      ]
     },
     "execution_count": 14,
     "metadata": {},
     "output_type": "execute_result"
    },
    {
     "data": {
      "image/png": "[encoded data removed]",
      "text/plain": [
       "<Figure size 432x288 with 1 Axes>"
      ]
     },
     "metadata": {},
     "output_type": "display_data"
    }
   ],
   "source": [
    "plt.imshow(output_opt[10])"
   ]
  },
  {
   "cell_type": "code",
   "execution_count": 15,
   "metadata": {},
   "outputs": [
    {
     "data": {
      "text/plain": [
       "<matplotlib.colorbar.Colorbar at 0x7fbfb4b58dd8>"
      ]
     },
     "execution_count": 15,
     "metadata": {},
     "output_type": "execute_result"
    },
    {
     "data": {
      "image/png": "[encoded data removed]",
      "text/plain": [
       "<Figure size 432x288 with 2 Axes>"
      ]
     },
     "metadata": {},
     "output_type": "display_data"
    }
   ],
   "source": [
    "# validation against each other \n",
    "plt.imshow(output[10]- output_opt[10])\n",
    "plt.colorbar()"
   ]
  },
  {
   "cell_type": "markdown",
   "metadata": {},
   "source": [
    "Now I will present some asymmetric initial conditions. "
   ]
  },
  {
   "cell_type": "code",
   "execution_count": 16,
   "metadata": {},
   "outputs": [
    {
     "name": "stdout",
     "output_type": "stream",
     "text": [
      "Seconds elapsed for 10 timesteps: 0.00319671630859375\n"
     ]
    }
   ],
   "source": [
    "time_steps = 10\n",
    "N = 64\n",
    "# benchmarking used for report\n",
    "start = time.time()\n",
    "output_opt = discretise_OpenCL_Optimised(N, \n",
    "                                         time_steps, \n",
    "                                         True)\n",
    "end = time.time()\n",
    "print(\"Seconds elapsed for \"+str(time_steps) \n",
    "      + \" timesteps: \" +str(end - start))"
   ]
  },
  {
   "cell_type": "code",
   "execution_count": 17,
   "metadata": {},
   "outputs": [
    {
     "data": {
      "text/plain": [
       "<matplotlib.image.AxesImage at 0x7fbfb4ad70f0>"
      ]
     },
     "execution_count": 17,
     "metadata": {},
     "output_type": "execute_result"
    },
    {
     "data": {
      "image/png": "[encoded data removed]",
      "text/plain": [
       "<Figure size 432x288 with 1 Axes>"
      ]
     },
     "metadata": {},
     "output_type": "display_data"
    }
   ],
   "source": [
    "plt.imshow(output_opt[10])"
   ]
  },
  {
   "cell_type": "code",
   "execution_count": 18,
   "metadata": {},
   "outputs": [
    {
     "name": "stdout",
     "output_type": "stream",
     "text": [
      "Seconds elapsed for 10 timesteps: 0.0047223567962646484\n"
     ]
    }
   ],
   "source": [
    "time_steps = 10\n",
    "N = 64\n",
    "# benchmarking used for report\n",
    "start = time.time()\n",
    "output = discretise_OpenCL(N, \n",
    "                           time_steps, \n",
    "                           True)\n",
    "end = time.time()\n",
    "print(\"Seconds elapsed for \"+str(time_steps) \n",
    "      + \" timesteps: \" +str(end - start))"
   ]
  },
  {
   "cell_type": "code",
   "execution_count": 19,
   "metadata": {},
   "outputs": [
    {
     "data": {
      "text/plain": [
       "<matplotlib.image.AxesImage at 0x7fbfb4a2ad68>"
      ]
     },
     "execution_count": 19,
     "metadata": {},
     "output_type": "execute_result"
    },
    {
     "data": {
      "image/png": "[encoded data removed]",
      "text/plain": [
       "<Figure size 432x288 with 1 Axes>"
      ]
     },
     "metadata": {},
     "output_type": "display_data"
    }
   ],
   "source": [
    "plt.imshow(output_opt[10])"
   ]
  },
  {
   "cell_type": "code",
   "execution_count": 20,
   "metadata": {},
   "outputs": [
    {
     "data": {
      "text/plain": [
       "<matplotlib.colorbar.Colorbar at 0x7fbfb49b85c0>"
      ]
     },
     "execution_count": 20,
     "metadata": {},
     "output_type": "execute_result"
    },
    {
     "data": {
      "image/png": "[encoded data removed]",
      "text/plain": [
       "<Figure size 432x288 with 2 Axes>"
      ]
     },
     "metadata": {},
     "output_type": "display_data"
    }
   ],
   "source": [
    "# verify against each other \n",
    "plt.imshow(output_opt[10]-output[10])\n",
    "plt.colorbar()"
   ]
  },
  {
   "cell_type": "markdown",
   "metadata": {},
   "source": [
    "# Benchmarking Code as Instructed by Project Description"
   ]
  },
  {
   "cell_type": "markdown",
   "metadata": {},
   "source": [
    "In addition to the functions I used to create an array of different time steps to visualise the diffusion process, please find benchmarking code below as requested in the project description."
   ]
  },
  {
   "cell_type": "code",
   "execution_count": 21,
   "metadata": {
    "collapsed": true
   },
   "outputs": [],
   "source": [
    "N = 32"
   ]
  },
  {
   "cell_type": "code",
   "execution_count": 22,
   "metadata": {
    "collapsed": true
   },
   "outputs": [],
   "source": [
    "# build an queue \n",
    "ctx = cl.create_some_context()\n",
    "queue = cl.CommandQueue(ctx)\n",
    "mf = cl.mem_flags\n",
    "prg = cl.Program(ctx, kernel_string).build()\n",
    "kernel = prg.discretiseOpenCL\n",
    "\n",
    "def benchmarker_helper(in_grid, N, sigma):\n",
    "    \"\"\"\n",
    "    Performs one forward time step of the Parabolic Poisson. \n",
    "\n",
    "    Parameters\n",
    "    ----------\n",
    "    in_grid : np.ndarray\n",
    "        previous time step array \n",
    "    \n",
    "    N : integer\n",
    "        An integer describing the length of one \n",
    "        side of the grid\n",
    "        \n",
    "    sigma: np.ndarray\n",
    "        Array of sigma values \n",
    "\n",
    "    Returns\n",
    "    -------\n",
    "    A (N, N, 2) float64 array describing time evolution\n",
    "    \"\"\"\n",
    "    in_grid_copy = np.copy(in_grid) \n",
    "    in_grid = np.asarray([in_grid, in_grid_copy]) \n",
    "    \n",
    "    # Setup buffers and kernel\n",
    "    result_buffer = cl.Buffer(\n",
    "        ctx, mf.COPY_HOST_PTR, hostbuf=in_grid)\n",
    "               \n",
    "    sigma_buffer = cl.Buffer(ctx, \n",
    "                             mf.READ_ONLY | mf.COPY_HOST_PTR, hostbuf=sigma)\n",
    "    \n",
    "    kernel(queue,\n",
    "           (N, N),\n",
    "           (1, 1),\n",
    "           np.int32(1),\n",
    "           np.int32(N),\n",
    "           result_buffer,\n",
    "           sigma_buffer)\n",
    "        \n",
    "    cl.enqueue_copy(queue, in_grid, result_buffer)\n",
    "\n",
    "    return in_grid"
   ]
  },
  {
   "cell_type": "code",
   "execution_count": 23,
   "metadata": {
    "collapsed": true
   },
   "outputs": [],
   "source": [
    "def benchmark(N, in_grid, sigma): \n",
    "    outputs = []\n",
    "    start = time.time()\n",
    "    for i in range(10):\n",
    "        outputs.append(in_grid)\n",
    "        output = benchmarker_helper(in_grid, N, sigma)\n",
    "        in_grid = output[1]\n",
    "    end = time.time()\n",
    "    print(\"Seconds elapsed naive: \" + str(end - start))\n",
    "    return outputs  "
   ]
  },
  {
   "cell_type": "code",
   "execution_count": 24,
   "metadata": {
    "collapsed": true
   },
   "outputs": [],
   "source": [
    "# Add g(x, y) of choice \n",
    "in_grid = np.zeros((time_steps + 1, N, N), dtype='float64')\n",
    "in_grid_init = in_grid[0]\n",
    "in_grid_init = initial_conditions(in_grid_init)\n",
    "# make a sigma vector, using the same random seed \n",
    "# so that the random values are the same at each iteration\n",
    "seeder = RandomState(1234567890)\n",
    "sigma = np.exp(seeder.normal(1, 0.2, (N+2)*(N+2), ))"
   ]
  },
  {
   "cell_type": "code",
   "execution_count": 25,
   "metadata": {},
   "outputs": [
    {
     "name": "stdout",
     "output_type": "stream",
     "text": [
      "Seconds elapsed naive: 0.0016481876373291016\n"
     ]
    }
   ],
   "source": [
    "output = benchmark(N, in_grid_init, sigma)"
   ]
  },
  {
   "cell_type": "code",
   "execution_count": 26,
   "metadata": {},
   "outputs": [
    {
     "data": {
      "text/plain": [
       "<matplotlib.image.AxesImage at 0x7fbfb49369b0>"
      ]
     },
     "execution_count": 26,
     "metadata": {},
     "output_type": "execute_result"
    },
    {
     "data": {
      "image/png": "[encoded data removed]",
      "text/plain": [
       "<Figure size 432x288 with 1 Axes>"
      ]
     },
     "metadata": {},
     "output_type": "display_data"
    }
   ],
   "source": [
    "plt.imshow(output[9])"
   ]
  },
  {
   "cell_type": "code",
   "execution_count": 27,
   "metadata": {
    "collapsed": true
   },
   "outputs": [],
   "source": [
    "# build and queue \n",
    "ctx = cl.create_some_context()\n",
    "queue = cl.CommandQueue(ctx)\n",
    "mf = cl.mem_flags\n",
    "prg = cl.Program(ctx, kernel_string_opt).build()\n",
    "kernel = prg.discretiseOpenCLOpt\n",
    "\n",
    "def benchmarker_helper_opt(in_grid, N, sigma):\n",
    "    \"\"\"\n",
    "    Fills an array with ones near the centre. \n",
    "\n",
    "    Parameters\n",
    "    ----------\n",
    "    in_grid : np.ndarray\n",
    "        previous time step array\n",
    "        \n",
    "    N : integer\n",
    "        An integer describing the length of one \n",
    "        side of the grid\n",
    "        \n",
    "    sigma: np.ndarray\n",
    "        Array of sigma values \n",
    "\n",
    "    Returns\n",
    "    -------\n",
    "    A (N, N, 2) float64 array describing time evolution\n",
    "    \"\"\"\n",
    "    in_grid_copy = np.copy(in_grid) \n",
    "    in_grid = np.asarray([in_grid, in_grid_copy]) \n",
    "    \n",
    "    # Setup buffers and kernel\n",
    "    result_buffer = cl.Buffer(\n",
    "        ctx, mf.COPY_HOST_PTR, hostbuf=in_grid)\n",
    "               \n",
    "    sigma_buffer = cl.Buffer(ctx, \n",
    "                             mf.READ_ONLY | mf.COPY_HOST_PTR, hostbuf=sigma)\n",
    "    \n",
    "    kernel(queue,\n",
    "           (N, N//8),\n",
    "           (1, 1),\n",
    "           np.int32(1),\n",
    "           np.int32(N),\n",
    "           result_buffer,\n",
    "           sigma_buffer)\n",
    "        \n",
    "    cl.enqueue_copy(queue, in_grid, result_buffer)\n",
    "\n",
    "    return in_grid"
   ]
  },
  {
   "cell_type": "code",
   "execution_count": 28,
   "metadata": {
    "collapsed": true
   },
   "outputs": [],
   "source": [
    "def benchmark_opt(N, in_grid, sigma): \n",
    "    outputs = []\n",
    "    start = time.time()\n",
    "    for i in range(10):\n",
    "        outputs.append(in_grid)\n",
    "        output = benchmarker_helper_opt(in_grid, N, sigma)\n",
    "        in_grid = output[1]\n",
    "    end = time.time()\n",
    "    print(\"Seconds elapsed Optimised: \" +str(end - start))\n",
    "    return outputs "
   ]
  },
  {
   "cell_type": "code",
   "execution_count": 29,
   "metadata": {},
   "outputs": [
    {
     "name": "stdout",
     "output_type": "stream",
     "text": [
      "Seconds elapsed Optimised: 0.0015468597412109375\n"
     ]
    }
   ],
   "source": [
    "output_opt = benchmark_opt(N, in_grid_init, sigma)"
   ]
  },
  {
   "cell_type": "code",
   "execution_count": 30,
   "metadata": {},
   "outputs": [
    {
     "data": {
      "text/plain": [
       "<matplotlib.colorbar.Colorbar at 0x7fbfb48cb0f0>"
      ]
     },
     "execution_count": 30,
     "metadata": {},
     "output_type": "execute_result"
    },
    {
     "data": {
      "image/png": "[encoded data removed]",
      "text/plain": [
       "<Figure size 432x288 with 2 Axes>"
      ]
     },
     "metadata": {},
     "output_type": "display_data"
    }
   ],
   "source": [
    "plt.imshow(output_opt[9])\n",
    "plt.colorbar()"
   ]
  }
 ],
 "metadata": {
  "kernelspec": {
   "display_name": "Python 3",
   "language": "python",
   "name": "python3"
  },
  "language_info": {
   "codemirror_mode": {
    "name": "ipython",
    "version": 3
   },
   "file_extension": ".py",
   "mimetype": "text/x-python",
   "name": "python",
   "nbconvert_exporter": "python",
   "pygments_lexer": "ipython3",
   "version": "3.6.8"
  }
 },
 "nbformat": 4,
 "nbformat_minor": 2
}
